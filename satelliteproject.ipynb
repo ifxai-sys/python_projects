{
 "cells": [
  {
   "cell_type": "code",
   "execution_count": null,
   "id": "1c8af676-81ef-45c3-9464-9110709d4fb3",
   "metadata": {},
   "outputs": [],
   "source": [
    "T,W,H=50,128,128\n",
    "r=15\n",
    "brightness=100\n",
    "start=(20,20)\n",
    "end=(100,100)\n",
    "X,Y=np.ogrid[:H,:W]\n",
    "cx=np.linspace(start[1],end[1],T)\n",
    "cy=np.linspace(start[0],end[0],T)\n",
    "mask=(Y[None,:,:]-cy[:,None,None])**2 + (X[None,:,:]-cx[:,None,None])**2 <= r*r \n",
    "signal=brightness*mask\n",
    "noise=np.random.normal(0,20,size=(T,H,W))\n",
    "data=signal+noise\n",
    "sig = 1 / (1 + np.exp(-data/30))\n",
    "norm = (sig - sig.min()) / (sig.max() - sig.min())\n",
    "trajectory = (norm*mask).sum((1,2)) / mask.sum((1,2)).clip(min=1)\n",
    "t_max = trajectory.argmax()\n",
    "vals_at_tmax = norm[t_max][mask[t_max]]\n",
    "spatial_variance = vals_at_tmax.var()\n"
   ]
  }
 ],
 "metadata": {
  "kernelspec": {
   "display_name": "Python 3 (ipykernel)",
   "language": "python",
   "name": "python3"
  },
  "language_info": {
   "codemirror_mode": {
    "name": "ipython",
    "version": 3
   },
   "file_extension": ".py",
   "mimetype": "text/x-python",
   "name": "python",
   "nbconvert_exporter": "python",
   "pygments_lexer": "ipython3",
   "version": "3.13.5"
  }
 },
 "nbformat": 4,
 "nbformat_minor": 5
}
